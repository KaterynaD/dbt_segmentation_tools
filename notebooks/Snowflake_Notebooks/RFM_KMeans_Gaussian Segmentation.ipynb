{
 "cells": [
  {
   "cell_type": "code",
   "execution_count": null,
   "id": "7eed4494-06ab-43b2-86e8-879c99c1a2c0",
   "metadata": {
    "collapsed": false,
    "language": "python",
    "name": "import_libs",
    "resultHeight": 0
   },
   "outputs": [],
   "source": [
    "# Snowpark for Python\n",
    "from snowflake.snowpark.types import DoubleType\n",
    "import snowflake.snowpark.functions as F\n",
    "#\n",
    "from snowflake.ml.registry import registry"
   ]
  },
  {
   "cell_type": "markdown",
   "id": "2c0c72b3-429c-4315-b093-57b90e64149b",
   "metadata": {
    "collapsed": false,
    "name": "cell39",
    "resultHeight": 74
   },
   "source": [
    "# RFM Customer Segmentation"
   ]
  },
  {
   "cell_type": "code",
   "execution_count": null,
   "id": "5f74dda0-0dde-495e-b03b-669f45d1b427",
   "metadata": {
    "collapsed": false,
    "language": "sql",
    "name": "cell38",
    "resultHeight": 111
   },
   "outputs": [],
   "source": [
    "\n",
    " create or replace view test.test.vRFM\n",
    "         as\n",
    "        (\n",
    "with raw_data as\n",
    "(\n",
    "select\n",
    "o_custkey ,\n",
    "o_orderdate ,\n",
    "o_totalprice \n",
    "from snowflake_sample_data.tpch_sf1.orders\n",
    ")\n",
    ",most_recent_purchase as (\n",
    "select \n",
    "dateadd(day,1, max( o_orderdate )) dt\n",
    "from raw_data\n",
    ")\n",
    ",data as (\n",
    "select\n",
    "o_custkey,\n",
    "datediff(day, max(o_orderdate),most_recent_purchase.dt) Recency,\n",
    "count(o_orderdate) Frequency,\n",
    "sum(o_totalprice) Monetary,\n",
    "sum(o_totalprice)/count(o_orderdate) Monetary_Avg\n",
    "from raw_data\n",
    "join most_recent_purchase\n",
    "group by o_custkey, most_recent_purchase.dt\n",
    "having datediff(day, max(o_orderdate),most_recent_purchase.dt)<=180\n",
    ")\n",
    ",segmented_data as (\n",
    "select \n",
    "o_custkey,\n",
    "Recency,\n",
    "Frequency,\n",
    "Monetary,\n",
    "Monetary_Avg,\n",
    "NTILE(5) OVER (ORDER BY Recency)  R,\n",
    "NTILE(5) OVER (ORDER BY Frequency)  F,\n",
    "NTILE(5) OVER (ORDER BY Monetary)  M,\n",
    "R + F + M RFM,\n",
    "case\n",
    "    when RFM > 13 then 'Champion'\n",
    "    when RFM > 10 then 'Loyal'\n",
    "    when RFM > 6 then 'Potential'\n",
    "    when RFM > 0 then 'Need Attention'\n",
    "end RFM_segment\n",
    "from data\n",
    ")\n",
    "select\n",
    "o_custkey,\n",
    "Recency::integer as Recency,\n",
    "Frequency::integer as Frequency,\n",
    "Monetary::numeric(38,5) as Monetary,\n",
    "Monetary_Avg::numeric(38,5) as Monetary_Avg,\n",
    "R::integer as R,\n",
    "F::integer as F,\n",
    "M::integer as M,\n",
    "RFM::integer as RFM,\n",
    "RFM_segment::varchar(20) as RFM_segment\n",
    "from segmented_data\n",
    "        );\n",
    "      \n",
    "  "
   ]
  },
  {
   "cell_type": "code",
   "execution_count": null,
   "id": "046fa3ea-5ea9-4af6-a4dd-88c7101dcf0d",
   "metadata": {
    "codeCollapsed": false,
    "collapsed": false,
    "jupyter": {
     "outputs_hidden": false
    },
    "language": "python",
    "name": "get_active_session",
    "resultHeight": 0
   },
   "outputs": [],
   "source": [
    "# Get Snowflake Session object\n",
    "session = get_active_session()\n",
    "session.sql_simplifier_enabled = True\n",
    "\n",
    "# Add a query tag to the session.\n",
    "session.query_tag = {\"origin\":\"Segmentation\", \n",
    "                     \"name\":\"e2e_ml_snowparkpython\", \n",
    "                     \"version\":{\"major\":1, \"minor\":0,},\n",
    "                     \"attributes\":{\"is_quickstart\":1}}"
   ]
  },
  {
   "cell_type": "code",
   "execution_count": null,
   "id": "f263ff11-b2ce-4533-b0ef-ef742f5401a4",
   "metadata": {
    "collapsed": false,
    "language": "python",
    "name": "cell14",
    "resultHeight": 0
   },
   "outputs": [],
   "source": [
    "import pandas as pd\n",
    "import numpy as np\n",
    "#\n",
    "import matplotlib.pyplot as plt\n",
    "import matplotlib.colors\n",
    "import matplotlib.cm as cm\n",
    "from matplotlib.pyplot import figure\n",
    "import seaborn as sns\n",
    "#\n",
    "import scipy.stats as stats\n",
    "from sklearn.preprocessing import StandardScaler\n",
    "from sklearn.compose import ColumnTransformer\n",
    "from scipy.stats import boxcox, anderson\n",
    "from sklearn.base import BaseEstimator, TransformerMixin\n",
    "from sklearn.compose import ColumnTransformer\n",
    "from sklearn.pipeline import Pipeline\n",
    "from sklearn.cluster import KMeans\n",
    "from sklearn.mixture import GaussianMixture\n",
    "from sklearn.metrics import silhouette_samples, silhouette_score\n",
    "#\n",
    "from sklearn.decomposition import PCA\n",
    "#\n",
    "import warnings\n",
    "warnings.filterwarnings(\"ignore\")"
   ]
  },
  {
   "cell_type": "code",
   "execution_count": null,
   "id": "b7cd3589-5219-4bf8-ae15-5d38c131004c",
   "metadata": {
    "collapsed": false,
    "language": "python",
    "name": "cell15",
    "resultHeight": 0
   },
   "outputs": [],
   "source": [
    "np.random.seed(42)"
   ]
  },
  {
   "cell_type": "code",
   "execution_count": null,
   "id": "ca93e9b2-4f7e-48b2-8772-e6deadaf7141",
   "metadata": {
    "collapsed": false,
    "language": "python",
    "name": "cell7",
    "resultHeight": 0
   },
   "outputs": [],
   "source": [
    "def Chart3D (cat_column):\n",
    "\n",
    "\n",
    "\n",
    "    fig = plt.figure(figsize=(12, 10))\n",
    "    ax = fig.add_subplot(projection='3d')\n",
    "\n",
    "\n",
    "    for s in df[cat_column].unique():\n",
    "        ax.scatter(df[df[cat_column]==s]['RECENCY'], df[df[cat_column]==s]['FREQUENCY'], df[df[cat_column]==s]['MONETARY'],  label=f'{s}')\n",
    "    ax.set_xlabel('RECENCY')\n",
    "    ax.set_ylabel('FREQUENCY')\n",
    "    ax.set_zlabel('MONETARY')\n",
    "    ax.legend(loc='upper right')\n",
    "\n",
    "    plt.show()\n",
    "#\n",
    "def PieChart(cat_column):\n",
    "    # Set Seaborn style\n",
    "    sns.set(style=\"whitegrid\")\n",
    "\n",
    "    # Prepare data\n",
    "    segment_counts = df[cat_column].value_counts()\n",
    "\n",
    "    # Plot\n",
    "    fig, ax = plt.subplots()\n",
    "    ax.pie(segment_counts, labels=segment_counts.index, autopct='%1.1f%%', startangle=90)\n",
    "    ax.axis('equal')  # Equal aspect ratio ensures that pie is drawn as a circle.\n",
    "\n",
    "    plt.title('Customer Segmentation')\n",
    "    plt.show()\n",
    "#\n",
    "def SummaryStats(cat_column):\n",
    "    \n",
    "    summary_stats_df = pd.DataFrame()\n",
    "\n",
    "    for segment in df[cat_column].unique():\n",
    "        segment_data = df[df[cat_column] == segment]\n",
    "\n",
    "        # Summary for numerical features\n",
    "        num_summary = segment_data[numerical_features].agg(['mean', 'std', 'min', 'max', 'count']).unstack()\n",
    "\n",
    "        # Adding the segment summary to the overall summary\n",
    "        summary_stats_df = pd.concat([summary_stats_df, num_summary], axis=1)\n",
    "\n",
    "    # Naming the columns after the segments\n",
    "    summary_stats_df.columns = [f\"Segment_{seg}\" for seg in df[cat_column].unique()]\n",
    "    \n",
    "    return summary_stats_df\n",
    "\n",
    "def BoxPlots(cat_column):\n",
    "    fig, axes = plt.subplots(nrows=3, ncols=1, figsize=(20, 15))\n",
    "\n",
    "    # Iterate through categorical columns and plot bar charts\n",
    "    for j, cn in enumerate(numerical_features):\n",
    "        for i, cc in enumerate([cat_column]):\n",
    "            row = j\n",
    "            col = i    \n",
    "            sns.boxplot(x = cc, y =  cn, data=df, showfliers=False, showcaps=True, whiskerprops={'linewidth': 1},  ax=axes[row])\n",
    "            axes[row].set_title(f'{cn}: {cc}')\n",
    "    plt.subplots_adjust(hspace=2)\n",
    "    plt.tight_layout()\n",
    "    plt.show()"
   ]
  },
  {
   "cell_type": "code",
   "execution_count": null,
   "id": "6080dc92-595e-48b6-b4fc-667e2346bed9",
   "metadata": {
    "collapsed": false,
    "jupyter": {
     "outputs_hidden": false
    },
    "language": "python",
    "name": "read_diamonds",
    "resultHeight": 251
   },
   "outputs": [],
   "source": [
    "# Create a Snowpark DataFrame that is configured to load data from the CSV file\n",
    "# We can now infer schema from CSV files.\n",
    "df = session.sql(\"\"\"\n",
    "    \n",
    "\n",
    "\n",
    "select\n",
    "o_custkey ,\n",
    "RECENCY,\n",
    "FREQUENCY,\n",
    "MONETARY ,\n",
    "RFM_Segment\n",
    "from test.test.vRFM\n",
    "    \n",
    "    \"\"\").to_pandas()\n",
    "\n",
    "df.head()"
   ]
  },
  {
   "cell_type": "code",
   "execution_count": null,
   "id": "d04f72db-d8b4-4f25-aaf0-928475009895",
   "metadata": {
    "codeCollapsed": false,
    "collapsed": false,
    "language": "python",
    "name": "dataset_size",
    "resultHeight": 58
   },
   "outputs": [],
   "source": [
    "len(df)"
   ]
  },
  {
   "cell_type": "code",
   "execution_count": null,
   "id": "8003e7c3-1a7e-41b8-b826-f4e232052dab",
   "metadata": {
    "language": "python",
    "name": "cell8",
    "resultHeight": 0
   },
   "outputs": [],
   "source": [
    "unique_id=['O_CUSTKEY']\n",
    "numerical_features=['RECENCY', 'FREQUENCY', 'MONETARY']"
   ]
  },
  {
   "cell_type": "markdown",
   "id": "33cbe91e-e011-4ec2-a3df-5d5959201efd",
   "metadata": {
    "collapsed": false,
    "name": "cell9",
    "resultHeight": 60
   },
   "source": [
    "## RFM Segments"
   ]
  },
  {
   "cell_type": "code",
   "execution_count": null,
   "id": "d453af6d-1eb8-46a0-882f-a0a3dfcb48e1",
   "metadata": {
    "language": "python",
    "name": "cell10",
    "resultHeight": 216
   },
   "outputs": [],
   "source": [
    "df['RFM_SEGMENT'].unique()"
   ]
  },
  {
   "cell_type": "code",
   "execution_count": null,
   "id": "671436b2-b5e3-444c-9faa-8be8533f06a1",
   "metadata": {
    "collapsed": false,
    "language": "python",
    "name": "RFMSegmentation_Segments3D",
    "resultHeight": 41
   },
   "outputs": [],
   "source": [
    "PieChart('RFM_SEGMENT')"
   ]
  },
  {
   "cell_type": "code",
   "execution_count": null,
   "id": "e4c17808-2b26-4759-abff-19129153dc2f",
   "metadata": {
    "language": "python",
    "name": "cell12",
    "resultHeight": 1475
   },
   "outputs": [],
   "source": [
    "Chart3D ('RFM_SEGMENT')"
   ]
  },
  {
   "cell_type": "code",
   "execution_count": null,
   "id": "e7932ac2-c5b8-47d6-b717-447f3b2c320e",
   "metadata": {
    "language": "python",
    "name": "cell16",
    "resultHeight": 41
   },
   "outputs": [],
   "source": [
    "BoxPlots('RFM_SEGMENT')"
   ]
  },
  {
   "cell_type": "code",
   "execution_count": null,
   "id": "2bb6d717-88a2-48d7-bae7-53b5944fdb2a",
   "metadata": {
    "language": "python",
    "name": "cell13",
    "resultHeight": 438
   },
   "outputs": [],
   "source": [
    "SummaryStats('RFM_SEGMENT')"
   ]
  },
  {
   "cell_type": "markdown",
   "id": "d82f176b-afac-4af7-97ba-59f3d9dfc0b0",
   "metadata": {
    "collapsed": false,
    "name": "cell40",
    "resultHeight": 60
   },
   "source": [
    "## Data Exploration"
   ]
  },
  {
   "cell_type": "code",
   "execution_count": null,
   "id": "a661dbc3-dfe2-468b-9aad-8927406c2157",
   "metadata": {
    "collapsed": false,
    "language": "python",
    "name": "NormalityAssumption",
    "resultHeight": 124
   },
   "outputs": [],
   "source": [
    "columns = df.shape[1]\n",
    "\n",
    "# Check normality assumption for numerical values (no dummies)\n",
    "for c in df[numerical_features].columns:\n",
    "    data = df[c]\n",
    "\n",
    "    # Visual Inspection: Histogram and Q-Q plot\n",
    "    plt.figure(figsize=(12, 6))\n",
    "\n",
    "    plt.subplot(1, 2, 1)\n",
    "    sns.histplot(data, kde=True)\n",
    "    plt.title(f'Histogram of {c}')\n",
    "\n",
    "    plt.subplot(1, 2, 2)\n",
    "    stats.probplot(data, dist=\"norm\", plot=plt)\n",
    "    plt.title(f'Q-Q plot of {c}')\n",
    "\n",
    "    plt.tight_layout()\n",
    "    plt.show()"
   ]
  },
  {
   "cell_type": "code",
   "execution_count": null,
   "id": "9a9a585a-74ce-4f54-8f0f-8364a5b9d3af",
   "metadata": {
    "collapsed": false,
    "language": "python",
    "name": "BoxPlots",
    "resultHeight": 41
   },
   "outputs": [],
   "source": [
    "# Create subplots with 1 column\n",
    "fig, axes = plt.subplots(nrows=3, ncols=1, figsize=(20, 15))\n",
    "\n",
    "\n",
    "for j, cn in enumerate(numerical_features):\n",
    "    row = j\n",
    "    sns.boxplot(y =  cn, data=df,  ax=axes[row])\n",
    "    axes[row].set_title(f'{cn}')\n",
    "plt.subplots_adjust(hspace=2)\n",
    "plt.tight_layout()\n",
    "plt.show()"
   ]
  },
  {
   "cell_type": "markdown",
   "id": "d0eac439-0a1a-4fb8-a290-03f9a3b1e4c4",
   "metadata": {
    "collapsed": false,
    "name": "cell3",
    "resultHeight": 67
   },
   "source": [
    "With the exception of Recency, which is really a more discrete variable, Frequency and Monetary seems to have been normalized quite nicely. Well, allow some 'slack' here."
   ]
  },
  {
   "cell_type": "markdown",
   "id": "7846531c-8992-4eb6-945d-7c51947f35ba",
   "metadata": {
    "collapsed": false,
    "name": "cell22",
    "resultHeight": 74
   },
   "source": [
    "# KMeans Clustering"
   ]
  },
  {
   "cell_type": "code",
   "execution_count": null,
   "id": "1609d599-7f64-4fc6-941d-0018a8c48976",
   "metadata": {
    "collapsed": false,
    "language": "python",
    "name": "ScalingData",
    "resultHeight": 0
   },
   "outputs": [],
   "source": [
    "#Scaling\n",
    "zcols = ['z_'+c for c in numerical_features]\n",
    "\n",
    "scaler=StandardScaler()\n",
    "scaled_data = scaler.fit_transform(df[numerical_features])\n",
    "scaled_df = pd.DataFrame(scaled_data, index=df.index, columns=zcols)"
   ]
  },
  {
   "cell_type": "code",
   "execution_count": null,
   "id": "a5b1437f-6e1c-4ea2-92da-67292f352d45",
   "metadata": {
    "collapsed": false,
    "language": "python",
    "name": "elbow_optimal_k",
    "resultHeight": 305
   },
   "outputs": [],
   "source": [
    "def find_optimal_k(df, max_k):\n",
    "    \"\"\"\n",
    "    Apply the elbow method to find the optimal number of clusters (k) for KMeans clustering.\n",
    "\n",
    "    Parameters:\n",
    "    df (DataFrame): The dataframe containing the data to cluster.\n",
    "    max_k (int): The maximum number of clusters to try.\n",
    "\n",
    "    Returns:\n",
    "    None: This function plots a graph showing the elbow curve.\n",
    "    \"\"\"\n",
    "    ssd = []  # Sum of squared distances\n",
    "\n",
    "    for k in range(1, max_k + 1):\n",
    "        kmeans = KMeans(n_clusters=k, n_init=42, random_state=42)\n",
    "        kmeans.fit(df)\n",
    "        ssd.append(kmeans.inertia_)\n",
    "\n",
    "    plt.figure(figsize=(10, 6))\n",
    "    plt.plot(range(1, max_k + 1), ssd, marker='o')\n",
    "    plt.title('Elbow Method for Optimal K')\n",
    "    plt.xlabel('Number of clusters (k)')\n",
    "    plt.ylabel('Sum of Squared Distances')\n",
    "    plt.xticks(range(1, max_k + 1))\n",
    "    plt.grid(True)\n",
    "    plt.show()\n",
    "\n",
    "find_optimal_k(scaled_df[zcols], 10)"
   ]
  },
  {
   "cell_type": "code",
   "execution_count": null,
   "id": "e17746b1-e15a-48c1-919c-8e8333e691b8",
   "metadata": {
    "collapsed": false,
    "language": "python",
    "name": "SilhouetteAnalysis",
    "resultHeight": 4687
   },
   "outputs": [],
   "source": [
    "##########################################################################\n",
    "## CREDIT:\n",
    "##    This code has been adapted from\n",
    "##    https://scikit-learn.org/stable/auto_examples/cluster/plot_kmeans_silhouette_analysis.html\n",
    "##########################################################################\n",
    "range_n_clusters = [2, 3, 4, 5, 6, 7, 8, 9]\n",
    "s_avg = []\n",
    "\n",
    "for n_clusters in range_n_clusters:\n",
    "    # Data to train the cluster model\n",
    "    X = scaled_df.to_numpy()\n",
    "\n",
    "    # Create a subplot with 1 row and 2 columns\n",
    "    fig, (ax1, ax2) = plt.subplots(1, 2)\n",
    "    fig.set_size_inches(18, 7)\n",
    "\n",
    "    # The 1st subplot is the silhouette plot\n",
    "    ax1.set_xlim([-0.1, 1])\n",
    "    # The (n_clusters+1)*10 is for inserting blank space between silhouette\n",
    "    # plots of individual clusters, to demarcate them clearly.\n",
    "    ax1.set_ylim([0, len(X) + (n_clusters + 1) * 10])\n",
    "\n",
    "    # Initialize the clusterer with n_clusters value and a random generator\n",
    "    # seed of 10 for reproducibility.\n",
    "    clusterer = KMeans(n_clusters=n_clusters, init='k-means++', n_init=42, random_state=42)\n",
    "    cluster_labels = clusterer.fit_predict(X)\n",
    "\n",
    "    # The silhouette_score gives the average value for all the samples.\n",
    "    # This gives a perspective into the density and separation of the formed\n",
    "    # clusters\n",
    "    silhouette_avg = silhouette_score(X, cluster_labels)\n",
    "    s_avg.append(silhouette_avg)\n",
    "    print(\"For n_clusters =\", n_clusters, \"The average silhouette_score is :\", silhouette_avg)\n",
    "\n",
    "    # Compute the silhouette scores for each sample\n",
    "    sample_silhouette_values = silhouette_samples(X, cluster_labels)\n",
    "\n",
    "    y_lower = 10\n",
    "    for i in range(n_clusters):\n",
    "        # Aggregate the silhouette scores for samples belonging to\n",
    "        # cluster i, and sort them\n",
    "        ith_cluster_silhouette_values = \\\n",
    "            sample_silhouette_values[cluster_labels == i]\n",
    "\n",
    "        ith_cluster_silhouette_values.sort()\n",
    "\n",
    "        size_cluster_i = ith_cluster_silhouette_values.shape[0]\n",
    "        y_upper = y_lower + size_cluster_i\n",
    "\n",
    "        color = cm.nipy_spectral(float(i) / n_clusters)\n",
    "        ax1.fill_betweenx(np.arange(y_lower, y_upper),\n",
    "                          0, ith_cluster_silhouette_values,\n",
    "                          facecolor=color, edgecolor=color, alpha=0.7)\n",
    "\n",
    "        # Label the silhouette plots with their cluster numbers at the middle\n",
    "        ax1.text(-0.05, y_lower + 0.5 * size_cluster_i, str(i))\n",
    "\n",
    "        # Compute the new y_lower for next plot\n",
    "        y_lower = y_upper + 10  # 10 for the 0 samples\n",
    "\n",
    "    ax1.set_title(\"The silhouette plot for the various clusters.\")\n",
    "    ax1.set_xlabel(\"The silhouette coefficient values\")\n",
    "    ax1.set_ylabel(\"Cluster label\")\n",
    "\n",
    "    # The vertical line for average silhouette score of all the values\n",
    "    ax1.axvline(x=silhouette_avg, color=\"red\", linestyle=\"--\")\n",
    "\n",
    "    ax1.set_yticks([])  # Clear the yaxis labels / ticks\n",
    "    ax1.set_xticks([-0.1, 0, 0.2, 0.4, 0.6, 0.8, 1])\n",
    "\n",
    "    # 2nd Plot showing the actual clusters formed\n",
    "    colors = cm.nipy_spectral(cluster_labels.astype(float) / n_clusters)\n",
    "    #ax2.scatter(space_2d[..., 0], space_2d[..., 1], marker='.', s=30, lw=0, alpha=0.7, c=colors, edgecolor='k')\n",
    "\n",
    "    # Labeling the clusters\n",
    "    centers = clusterer.cluster_centers_\n",
    "    # Draw white circles at cluster centers\n",
    "    ax2.scatter(centers[:, 0], centers[:, 1], marker='o', c=\"white\", alpha=1, s=200, edgecolor='k')\n",
    "\n",
    "    for i, c in enumerate(centers):\n",
    "        ax2.scatter(c[0], c[1], marker='$%d$' % i, alpha=1, s=50, edgecolor='k')\n",
    "\n",
    "    ax2.set_title(\"The visualization of the clustered data.\")\n",
    "    ax2.set_xlabel(\"Feature space for the 1st feature\")\n",
    "    ax2.set_ylabel(\"Feature space for the 2nd feature\")\n",
    "\n",
    "    plt.suptitle((\"Silhouette analysis for KMeans clustering on RFM data \"\n",
    "                  \"with n_clusters = %d\" % n_clusters), fontsize=14, fontweight='bold')\n",
    "\n",
    "plt.show()"
   ]
  },
  {
   "cell_type": "code",
   "execution_count": null,
   "id": "15a679ae-057f-4849-b92f-97d7134b21e5",
   "metadata": {
    "collapsed": false,
    "language": "python",
    "name": "KMeansModel",
    "resultHeight": 0
   },
   "outputs": [],
   "source": [
    "# Let's build the model with 4 components\n",
    "kmeans = KMeans(n_clusters=4, init='random', max_iter=100, n_init=42, random_state = 42).fit(scaled_df)\n",
    "\n",
    "# Assigning the segments to the original DataFrame\n",
    "df['KMEANS_SEGMENT'] = kmeans.predict(scaled_df)\n",
    "\n",
    "metric=silhouette_score(scaled_df, df['KMEANS_SEGMENT'])"
   ]
  },
  {
   "cell_type": "code",
   "execution_count": null,
   "id": "56b6c95d-5921-4b2b-aea9-4240bd9d6e08",
   "metadata": {
    "collapsed": false,
    "language": "python",
    "name": "KMeansSegmentation_PieChart",
    "resultHeight": 939
   },
   "outputs": [],
   "source": [
    "PieChart('KMEANS_SEGMENT')"
   ]
  },
  {
   "cell_type": "code",
   "execution_count": null,
   "id": "e608548c-01a7-4e6a-a5ca-3eff39f739f2",
   "metadata": {
    "collapsed": false,
    "language": "python",
    "name": "KMeansSegmentation_Segments3D",
    "resultHeight": 1475
   },
   "outputs": [],
   "source": [
    "Chart3D ('KMEANS_SEGMENT')"
   ]
  },
  {
   "cell_type": "code",
   "execution_count": null,
   "id": "ca136d7a-0bd4-4226-9603-cd75c73e0a84",
   "metadata": {
    "collapsed": false,
    "language": "python",
    "name": "KMeansSegmentation_BoxPlots",
    "resultHeight": 1106
   },
   "outputs": [],
   "source": [
    "BoxPlots('KMEANS_SEGMENT')"
   ]
  },
  {
   "cell_type": "code",
   "execution_count": null,
   "id": "9046cc7e-2da9-41af-b839-1f049e5a804f",
   "metadata": {
    "language": "python",
    "name": "cell17",
    "resultHeight": 438
   },
   "outputs": [],
   "source": [
    "SummaryStats('KMEANS_SEGMENT')"
   ]
  },
  {
   "cell_type": "markdown",
   "id": "d49364cf-310f-44a0-8a39-69133eff82a0",
   "metadata": {
    "collapsed": false,
    "name": "cell20",
    "resultHeight": 131
   },
   "source": [
    "- Segment 2 (red) - Recent, frequent and spent more money\n",
    "- Segment 0 (green) - Purchace long time ago , frequent and spent more money\n",
    "- Segment 3 (blue) - Recent, rare and less money\n",
    "- Segment 1 (orange) - Purchace long time ago , rare and spent less money"
   ]
  },
  {
   "cell_type": "code",
   "execution_count": null,
   "id": "a8ca57c5-f4cf-4b68-b694-fe3a4f933074",
   "metadata": {
    "collapsed": false,
    "language": "python",
    "name": "RegisteringKMeansModel",
    "resultHeight": 181
   },
   "outputs": [],
   "source": [
    "# database and schema\n",
    "db = \"CONTROL_DB\"\n",
    "schema = \"MODELS\"\n",
    "\n",
    "# Get sample input data to pass into the registry logging function\n",
    "sample_data = scaled_df.head(100)\n",
    "\n",
    "# model name\n",
    "model_name = \"KMeans_Customer_Segmentation\"\n",
    "\n",
    "# create a registry and log the model\n",
    "model_registry = registry.Registry(session=session, database_name=db, schema_name=schema)\n",
    "\n",
    "# log the fitted model\n",
    "model_ver = model_registry.log_model(\n",
    "    model_name=model_name,\n",
    "    model=kmeans,\n",
    "    sample_input_data=sample_data\n",
    ")\n",
    "\n",
    "# evaluation metric\n",
    "model_ver.set_metric(metric_name=\"silhouette_score\", value=metric )\n",
    "\n",
    "# comments\n",
    "model_ver.comment = \"This is KMeans model to segment customers based on Recency, Frequency and Monetary\"\n",
    "\n",
    "# check\n",
    "model_registry.get_model(model_name).show_versions()"
   ]
  },
  {
   "cell_type": "markdown",
   "id": "47742356-ce08-485b-bc01-29f044c0f3fa",
   "metadata": {
    "collapsed": false,
    "name": "cell21",
    "resultHeight": 74
   },
   "source": [
    "# Gaussian Segmentation"
   ]
  },
  {
   "attachments": {},
   "cell_type": "markdown",
   "id": "8babcdbe-083d-4e4e-b7ec-ac86982e775d",
   "metadata": {
    "collapsed": false,
    "jupyter": {
     "outputs_hidden": false
    },
    "name": "md_clean_data",
    "resultHeight": 41
   },
   "source": [
    "This clustering method is sensitive to normal distribution. \n",
    "Checking normality and transforming if needed"
   ]
  },
  {
   "cell_type": "code",
   "execution_count": null,
   "id": "fcd0ce8f-0f7d-4cc9-ad07-f59d5c8e67a2",
   "metadata": {
    "collapsed": false,
    "language": "python",
    "name": "boxcox_transformation",
    "resultHeight": 0
   },
   "outputs": [],
   "source": [
    "class BoxCoxTransformer(BaseEstimator, TransformerMixin):\n",
    "    def __init__(self, alpha=0.05):\n",
    "        self.alpha = alpha\n",
    "\n",
    "    def fit(self, X, y=None):\n",
    "        self.lambdas_ = {}\n",
    "        self.shifts_ = {}\n",
    "        for col in X.columns:\n",
    "            # Shift data if necessary\n",
    "            min_val = X[col].min()\n",
    "            shift = 0 if min_val > 0 else -min_val + 1\n",
    "            self.shifts_[col] = shift\n",
    "            shifted_data = X[col] + shift\n",
    "\n",
    "            # Apply Anderson-Darling test\n",
    "            ad_test_result = anderson(shifted_data.dropna())\n",
    "            if ad_test_result.statistic > self.alpha: #ad_test_result.critical_values[0]:  # Comparing with the critical value at 5% significance level\n",
    "                _, maxlog = boxcox(shifted_data.dropna())\n",
    "                self.lambdas_[col] = maxlog\n",
    "        return self\n",
    "\n",
    "    def transform(self, X):\n",
    "        X_transformed = pd.DataFrame(index=X.index)\n",
    "        for col in X.columns:\n",
    "            shifted_data = X[col] + self.shifts_.get(col, 0)\n",
    "            if col in self.lambdas_:\n",
    "                transformed_col = boxcox(shifted_data, lmbda=self.lambdas_[col])\n",
    "                X_transformed[col] = transformed_col\n",
    "            else:\n",
    "                X_transformed[col] = shifted_data\n",
    "        return X_transformed"
   ]
  },
  {
   "cell_type": "code",
   "execution_count": null,
   "id": "58089d09-918d-4c14-85c7-fc496b1a1c76",
   "metadata": {
    "collapsed": false,
    "language": "python",
    "name": "cell1",
    "resultHeight": 0
   },
   "outputs": [],
   "source": [
    "# Create a pipeline for numerical features\n",
    "numerical_pipeline = Pipeline([\n",
    "    ('boxcox', BoxCoxTransformer()),\n",
    "    ('scaler', StandardScaler())\n",
    "])"
   ]
  },
  {
   "cell_type": "code",
   "execution_count": null,
   "id": "b24b2261-0900-4deb-a34a-ddafd263368e",
   "metadata": {
    "collapsed": false,
    "language": "python",
    "name": "cell2",
    "resultHeight": 0
   },
   "outputs": [],
   "source": [
    "# Create a column transformer to combine the pipelines\n",
    "preprocessor = ColumnTransformer(\n",
    "    transformers=[\n",
    "        ('numerical', numerical_pipeline, numerical_features)\n",
    "    ],\n",
    "    remainder='passthrough'\n",
    ")"
   ]
  },
  {
   "cell_type": "code",
   "execution_count": null,
   "id": "b8a63d65-c00b-4de9-a4ae-417b49586b38",
   "metadata": {
    "collapsed": false,
    "language": "python",
    "name": "cell4",
    "resultHeight": 0
   },
   "outputs": [],
   "source": [
    "transformed_data = preprocessor.fit_transform(df[numerical_features])"
   ]
  },
  {
   "cell_type": "code",
   "execution_count": null,
   "id": "c82199df-61e2-42fe-8186-4375ada1a9a2",
   "metadata": {
    "collapsed": false,
    "language": "python",
    "name": "cell5",
    "resultHeight": 0
   },
   "outputs": [],
   "source": [
    "# Create the final DataFrame\n",
    "transformed_df = pd.DataFrame(transformed_data,index = df.index)"
   ]
  },
  {
   "cell_type": "code",
   "execution_count": null,
   "id": "823d5bad-89e7-46ea-a623-1403e2709637",
   "metadata": {
    "collapsed": false,
    "language": "python",
    "name": "BestGMM",
    "resultHeight": 83
   },
   "outputs": [],
   "source": [
    "def find_best_gmm(X, k_range=(2, 8)):\n",
    "    best_aic = np.inf\n",
    "    best_bic = np.inf\n",
    "    best_k = None\n",
    "    best_gmm = None\n",
    "    aic_values = []\n",
    "    bic_values = []\n",
    "\n",
    "    for k in k_range:\n",
    "        gmm = GaussianMixture(n_components=k, random_state=0).fit(X)\n",
    "        aic = gmm.aic(X)\n",
    "        bic = gmm.bic(X)\n",
    "\n",
    "        # Store the various AICs and BICs\n",
    "        aic_values.append(aic)\n",
    "        bic_values.append(bic)\n",
    "\n",
    "        if aic < best_aic:\n",
    "            best_aic = aic\n",
    "            best_bic = bic\n",
    "            best_k = k\n",
    "            best_gmm = gmm\n",
    "\n",
    "    return best_gmm, best_k, best_aic, best_bic, aic_values, bic_values\n",
    "\n",
    "# Example usage\n",
    "# Assuming 'transformed_df' is the DataFrame from the pipeline\n",
    "k_range = range(3,12)\n",
    "best_gmm_model, best_k, best_aic, best_bic, aics, bics = find_best_gmm(transformed_df, k_range)\n",
    "print(f\"Best GMM Model: {best_k} segments\")\n",
    "print(f\"AIC: {best_aic}\")\n",
    "print(f\"BIC: {best_bic}\")"
   ]
  },
  {
   "cell_type": "code",
   "execution_count": null,
   "id": "86532487-3391-499a-9d9b-009faa23f7d8",
   "metadata": {
    "collapsed": false,
    "language": "python",
    "name": "AIC_BIC_plot",
    "resultHeight": 925
   },
   "outputs": [],
   "source": [
    "# Plotting AIC and BIC\n",
    "plt.plot ([k for k in k_range], aics, label='AIC')\n",
    "plt.plot ([k for k in k_range], bics, label='BIC')\n",
    "plt.legend()\n",
    "plt.xlabel('Number of Segments')"
   ]
  },
  {
   "cell_type": "markdown",
   "id": "607bfd87-f0be-429c-8298-fc2cc84f15af",
   "metadata": {
    "collapsed": false,
    "name": "cell11",
    "resultHeight": 41
   },
   "source": [
    "While the AIC and BIC continue to decrease as we increase the components, we are looking to the simplest (less complex) model - 4 segments."
   ]
  },
  {
   "cell_type": "code",
   "execution_count": null,
   "id": "dbb003b5-9752-4025-b480-700faba453fc",
   "metadata": {
    "collapsed": false,
    "language": "python",
    "name": "GMMModel",
    "resultHeight": 0
   },
   "outputs": [],
   "source": [
    "# Let's build the model with 4 components\n",
    "gmm = GaussianMixture(n_components=4, random_state=42).fit(transformed_df)\n",
    "\n",
    "# Assigning the segments to the original DataFrame\n",
    "df['GMM_SEGMENT'] = gmm.predict(transformed_df)\n",
    "\n",
    "metric = gmm.aic(transformed_df)"
   ]
  },
  {
   "cell_type": "code",
   "execution_count": null,
   "id": "ab9845e6-da2e-44bf-a9b2-c73b33d46bb0",
   "metadata": {
    "collapsed": false,
    "language": "python",
    "name": "GMMSegmentation_PieChart",
    "resultHeight": 939
   },
   "outputs": [],
   "source": [
    "PieChart('GMM_SEGMENT')"
   ]
  },
  {
   "cell_type": "code",
   "execution_count": null,
   "id": "1f622ee2-fbda-4aeb-8c78-6f8440d33e97",
   "metadata": {
    "collapsed": false,
    "language": "python",
    "name": "GMMSegmentation_Statistic",
    "resultHeight": 1475
   },
   "outputs": [],
   "source": [
    "Chart3D ('GMM_SEGMENT')"
   ]
  },
  {
   "cell_type": "code",
   "execution_count": null,
   "id": "3103c7ef-4aa2-4f7b-908a-fb9790e66e0a",
   "metadata": {
    "collapsed": false,
    "language": "python",
    "name": "cell18",
    "resultHeight": 1106
   },
   "outputs": [],
   "source": [
    "BoxPlots('GMM_SEGMENT')"
   ]
  },
  {
   "cell_type": "code",
   "execution_count": null,
   "id": "23fc1c50-9a76-404f-a07c-e8a686687ec7",
   "metadata": {
    "collapsed": false,
    "language": "python",
    "name": "GMMSegmentation_boxplots",
    "resultHeight": 438
   },
   "outputs": [],
   "source": [
    "SummaryStats('GMM_SEGMENT')"
   ]
  },
  {
   "cell_type": "markdown",
   "id": "2677e80f-2b1b-4c6c-83bb-56fcc9c35e4d",
   "metadata": {
    "collapsed": false,
    "name": "cell6",
    "resultHeight": 131
   },
   "source": [
    "- Segment 1 (green) - Recent, frequent and spent more money\n",
    "- Segment 3 (red) - Purchace long time ago , frequent and spent more money\n",
    "- Segment 0 (blue) - Recent, rare and less money\n",
    "- Segment 2 (orange) - Purchace long time ago , rare and spent less money"
   ]
  },
  {
   "cell_type": "code",
   "execution_count": null,
   "id": "04932034-7482-402b-ba68-21f85e520805",
   "metadata": {
    "collapsed": false,
    "language": "python",
    "name": "RegisteringGMMModel",
    "resultHeight": 146
   },
   "outputs": [],
   "source": [
    "# database and schema\n",
    "db = \"CONTROL_DB\"\n",
    "schema = \"MODELS\"\n",
    "\n",
    "# Get sample input data to pass into the registry logging function\n",
    "sample_data = scaled_df.head(100)\n",
    "\n",
    "# model name\n",
    "model_name = \"GMM_Customer_Segmentation\"\n",
    "\n",
    "# create a registry and log the model\n",
    "model_registry = registry.Registry(session=session, database_name=db, schema_name=schema)\n",
    "\n",
    "# log the fitted model\n",
    "model_ver = model_registry.log_model(\n",
    "    model_name=model_name,\n",
    "    #version_name='V0',\n",
    "    model=kmeans,\n",
    "    sample_input_data=sample_data\n",
    ")\n",
    "\n",
    "# evaluation metric\n",
    "model_ver.set_metric(metric_name=\"AIC\", value=metric )\n",
    "\n",
    "# comments\n",
    "model_ver.comment = \"This is GMM model to segment customers based on Recency, Frequency and Monetary\"\n",
    "\n",
    "# check\n",
    "model_registry.get_model(model_name).show_versions()"
   ]
  }
 ],
 "metadata": {
  "kernelspec": {
   "display_name": "Python 3 (ipykernel)",
   "language": "python",
   "name": "python3"
  },
  "language_info": {
   "codemirror_mode": {
    "name": "ipython",
    "version": 3
   },
   "file_extension": ".py",
   "mimetype": "text/x-python",
   "name": "python",
   "nbconvert_exporter": "python",
   "pygments_lexer": "ipython3",
   "version": "3.11.5"
  }
 },
 "nbformat": 4,
 "nbformat_minor": 4
}
